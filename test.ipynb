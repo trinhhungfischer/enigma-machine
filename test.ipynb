{
 "cells": [
  {
   "cell_type": "code",
   "execution_count": 1,
   "metadata": {},
   "outputs": [
    {
     "name": "stdout",
     "output_type": "stream",
     "text": [
      "Hello\n"
     ]
    }
   ],
   "source": [
    "print(\"Hello\")"
   ]
  },
  {
   "cell_type": "code",
   "execution_count": 9,
   "metadata": {},
   "outputs": [],
   "source": [
    "def dict2cycle(dict):\n",
    "    \"\"\"\n",
    "    E.g. {'a':'b','b':'c','c':'a'} -> [(a,b,c)]\n",
    "    \"\"\"\n",
    "    cycles = []\n",
    "    \n",
    "    while len(dict) > 0:\n",
    "        cycle = [dict.keys()[0]]\n",
    "        while 1:\n",
    "            next = dict[cycle[-1]]\n",
    "            del(dict[cycle[-1]])\n",
    "            if next == cycle[0]:\n",
    "                break\n",
    "            cycle.append(next)\n",
    "        if len(cycle) > 0:\n",
    "            cycles.append(tuple(cycle))\n",
    "\n",
    "    return cycles"
   ]
  },
  {
   "cell_type": "code",
   "execution_count": 13,
   "metadata": {},
   "outputs": [
    {
     "ename": "TypeError",
     "evalue": "'dict_keys' object is not subscriptable",
     "output_type": "error",
     "traceback": [
      "\u001b[0;31m---------------------------------------------------------------------------\u001b[0m",
      "\u001b[0;31mTypeError\u001b[0m                                 Traceback (most recent call last)",
      "\u001b[1;32m/home/trinhhung/d/hust/semester6/security_intro_it4015/src/project/test.ipynb Cell 3'\u001b[0m in \u001b[0;36m<cell line: 1>\u001b[0;34m()\u001b[0m\n\u001b[0;32m----> <a href='vscode-notebook-cell:/home/trinhhung/d/hust/semester6/security_intro_it4015/src/project/test.ipynb#ch0000005?line=0'>1</a>\u001b[0m a\u001b[39m.\u001b[39;49mkeys()[\u001b[39m0\u001b[39;49m]\n",
      "\u001b[0;31mTypeError\u001b[0m: 'dict_keys' object is not subscriptable"
     ]
    }
   ],
   "source": [
    "a.keys()[0]"
   ]
  },
  {
   "cell_type": "code",
   "execution_count": 10,
   "metadata": {},
   "outputs": [],
   "source": [
    "a = {'a': 1, 'b': 2, 'c': 3}"
   ]
  },
  {
   "cell_type": "code",
   "execution_count": 11,
   "metadata": {},
   "outputs": [
    {
     "ename": "TypeError",
     "evalue": "'dict_keys' object is not subscriptable",
     "output_type": "error",
     "traceback": [
      "\u001b[0;31m---------------------------------------------------------------------------\u001b[0m",
      "\u001b[0;31mTypeError\u001b[0m                                 Traceback (most recent call last)",
      "\u001b[1;32m/home/trinhhung/d/hust/semester6/security_intro_it4015/src/project/test.ipynb Cell 4'\u001b[0m in \u001b[0;36m<cell line: 1>\u001b[0;34m()\u001b[0m\n\u001b[0;32m----> <a href='vscode-notebook-cell:/home/trinhhung/d/hust/semester6/security_intro_it4015/src/project/test.ipynb#ch0000004?line=0'>1</a>\u001b[0m dict2cycle(a)\n",
      "\u001b[1;32m/home/trinhhung/d/hust/semester6/security_intro_it4015/src/project/test.ipynb Cell 2'\u001b[0m in \u001b[0;36mdict2cycle\u001b[0;34m(dict)\u001b[0m\n\u001b[1;32m      <a href='vscode-notebook-cell:/home/trinhhung/d/hust/semester6/security_intro_it4015/src/project/test.ipynb#ch0000003?line=4'>5</a>\u001b[0m cycles \u001b[39m=\u001b[39m []\n\u001b[1;32m      <a href='vscode-notebook-cell:/home/trinhhung/d/hust/semester6/security_intro_it4015/src/project/test.ipynb#ch0000003?line=6'>7</a>\u001b[0m \u001b[39mwhile\u001b[39;00m \u001b[39mlen\u001b[39m(\u001b[39mdict\u001b[39m) \u001b[39m>\u001b[39m \u001b[39m0\u001b[39m:\n\u001b[0;32m----> <a href='vscode-notebook-cell:/home/trinhhung/d/hust/semester6/security_intro_it4015/src/project/test.ipynb#ch0000003?line=7'>8</a>\u001b[0m     cycle \u001b[39m=\u001b[39m [\u001b[39mdict\u001b[39;49m\u001b[39m.\u001b[39;49mkeys()[\u001b[39m0\u001b[39;49m]]\n\u001b[1;32m      <a href='vscode-notebook-cell:/home/trinhhung/d/hust/semester6/security_intro_it4015/src/project/test.ipynb#ch0000003?line=8'>9</a>\u001b[0m     \u001b[39mwhile\u001b[39;00m \u001b[39m1\u001b[39m:\n\u001b[1;32m     <a href='vscode-notebook-cell:/home/trinhhung/d/hust/semester6/security_intro_it4015/src/project/test.ipynb#ch0000003?line=9'>10</a>\u001b[0m         \u001b[39mnext\u001b[39m \u001b[39m=\u001b[39m \u001b[39mdict\u001b[39m[cycle[\u001b[39m-\u001b[39m\u001b[39m1\u001b[39m]]\n",
      "\u001b[0;31mTypeError\u001b[0m: 'dict_keys' object is not subscriptable"
     ]
    }
   ],
   "source": [
    "dict2cycle(a)"
   ]
  },
  {
   "cell_type": "code",
   "execution_count": 6,
   "metadata": {},
   "outputs": [
    {
     "data": {
      "text/plain": [
       "[1, 2, 3]"
      ]
     },
     "execution_count": 6,
     "metadata": {},
     "output_type": "execute_result"
    }
   ],
   "source": [
    "list(dict.values())"
   ]
  },
  {
   "cell_type": "code",
   "execution_count": null,
   "metadata": {},
   "outputs": [],
   "source": []
  }
 ],
 "metadata": {
  "kernelspec": {
   "display_name": "Python 3.8.10 ('.venv': venv)",
   "language": "python",
   "name": "python3"
  },
  "language_info": {
   "codemirror_mode": {
    "name": "ipython",
    "version": 3
   },
   "file_extension": ".py",
   "mimetype": "text/x-python",
   "name": "python",
   "nbconvert_exporter": "python",
   "pygments_lexer": "ipython3",
   "version": "3.8.10"
  },
  "orig_nbformat": 4,
  "vscode": {
   "interpreter": {
    "hash": "d3dade0a73c30279b24cd44c886e340124c0f189b3533f8972d6ca9f9ae473b3"
   }
  }
 },
 "nbformat": 4,
 "nbformat_minor": 2
}
